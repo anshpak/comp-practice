{
 "cells": [
  {
   "cell_type": "code",
   "execution_count": 133,
   "id": "e3c4da3f-f838-41e9-b4fc-e208a714b06e",
   "metadata": {},
   "outputs": [],
   "source": [
    "def is_woodall_number(p):\n",
    "    e_list = [2, 3, 6, 30, 75, 81, 115, 123, 249, 362, 384, 462, 512, 751, 822, 5312, 7755, 9531, 12379, 15822, 18885, 22971, 23005, 98726, 143018, 151023, 667071, 1195203, 1268979, 1467763, 2013992, 2367906, 3752948, 17016602]\n",
    "    for n in e_list:\n",
    "        if n * 2**n - 1 == p:\n",
    "            return True\n",
    "    return False"
   ]
  },
  {
   "cell_type": "code",
   "execution_count": null,
   "id": "d9299176-e58c-4da7-9e06-988680fb2931",
   "metadata": {},
   "outputs": [],
   "source": []
  }
 ],
 "metadata": {
  "kernelspec": {
   "display_name": "Python 3 (ipykernel)",
   "language": "python",
   "name": "python3"
  },
  "language_info": {
   "codemirror_mode": {
    "name": "ipython",
    "version": 3
   },
   "file_extension": ".py",
   "mimetype": "text/x-python",
   "name": "python",
   "nbconvert_exporter": "python",
   "pygments_lexer": "ipython3",
   "version": "3.9.12"
  }
 },
 "nbformat": 4,
 "nbformat_minor": 5
}
