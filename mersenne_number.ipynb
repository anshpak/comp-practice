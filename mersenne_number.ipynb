{
 "cells": [
  {
   "cell_type": "code",
   "execution_count": 9,
   "id": "4806a0d4-65ed-4938-b97a-4fcb7b8adede",
   "metadata": {},
   "outputs": [],
   "source": [
    "def trial_division(n):\n",
    "    if n < 2:\n",
    "        return False\n",
    "    d = 2\n",
    "    while d <= n**0.5:\n",
    "        if n % d == 0:\n",
    "            return False\n",
    "        d += 1\n",
    "    return True"
   ]
  },
  {
   "cell_type": "code",
   "execution_count": 10,
   "id": "d0bdc315-d77b-49a2-bbae-a44ca5be839f",
   "metadata": {},
   "outputs": [],
   "source": [
    "def is_mersenne_number(n):\n",
    "    n += 1\n",
    "    p = 0\n",
    "    while n != 1:\n",
    "        if n & 1:\n",
    "            return False\n",
    "        n >>= 1\n",
    "        p += 1\n",
    "    if not trial_division(p):\n",
    "            return False\n",
    "    return True"
   ]
  }
 ],
 "metadata": {
  "kernelspec": {
   "display_name": "Python 3 (ipykernel)",
   "language": "python",
   "name": "python3"
  },
  "language_info": {
   "codemirror_mode": {
    "name": "ipython",
    "version": 3
   },
   "file_extension": ".py",
   "mimetype": "text/x-python",
   "name": "python",
   "nbconvert_exporter": "python",
   "pygments_lexer": "ipython3",
   "version": "3.9.12"
  }
 },
 "nbformat": 4,
 "nbformat_minor": 5
}
