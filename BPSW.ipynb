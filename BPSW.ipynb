{
 "cells": [
  {
   "cell_type": "code",
   "execution_count": 24,
   "id": "d7e26872-0497-436f-a0fc-0b4a11d67fb0",
   "metadata": {},
   "outputs": [],
   "source": [
    "from sympy import jacobi_symbol\n",
    "from random import randint  \n",
    "import math"
   ]
  },
  {
   "cell_type": "code",
   "execution_count": 18,
   "id": "668637b2-d9f1-495e-9b6b-39e96f7286c9",
   "metadata": {},
   "outputs": [],
   "source": [
    "def BPSW(n):\n",
    "    if miller_rabin(n) and lukas_selfridge(n):\n",
    "        return True\n",
    "    else:\n",
    "        return False"
   ]
  },
  {
   "cell_type": "code",
   "execution_count": 19,
   "id": "9f4c3c19-fc2d-4b33-a3a2-e5543a98328f",
   "metadata": {},
   "outputs": [],
   "source": [
    "def st(n):\n",
    "    s = 0\n",
    "    t = n - 1\n",
    "    while t % 2 == 0:\n",
    "        s += 1\n",
    "        t = t // 2\n",
    "    return s, t\n",
    "\n",
    "def gcd(a, b):\n",
    "    while b:\n",
    "        a, b = b, a % b\n",
    "    return a"
   ]
  },
  {
   "cell_type": "code",
   "execution_count": 20,
   "id": "62970d9a-037f-4f4e-a47e-d1190c5a0ea4",
   "metadata": {
    "slideshow": {
     "slide_type": "subslide"
    }
   },
   "outputs": [],
   "source": [
    "def witness_q(a, n, s = 0, t = 0):\n",
    "    if n % 2 == 0:\n",
    "        return False\n",
    "    if s == 0:\n",
    "        s, t = st(n)    \n",
    "    if gcd(a, n) > 1:\n",
    "        return False\n",
    "    b = pow(a, t, n)\n",
    "    if b == 1 or b == n - 1:\n",
    "        return True\n",
    "    for _ in range(1, s):\n",
    "        b = b**2 % n\n",
    "        if b == n - 1:\n",
    "            return True\n",
    "    return False"
   ]
  },
  {
   "cell_type": "code",
   "execution_count": 21,
   "id": "6987fcef-92d7-4791-9b04-c23411967851",
   "metadata": {
    "slideshow": {
     "slide_type": "-"
    }
   },
   "outputs": [],
   "source": [
    "def miller_rabin(n, k = 10):\n",
    "    if n % 2 == 0:\n",
    "        return False\n",
    "    s, t = st(n)\n",
    "    for _ in range(k):\n",
    "        a = randint(2, n - 1)\n",
    "        if not witness_q(a, n,s,t):\n",
    "            return False\n",
    "    return True"
   ]
  },
  {
   "cell_type": "code",
   "execution_count": 27,
   "id": "5019d76c-b332-4892-81d8-1e84bf03f2af",
   "metadata": {},
   "outputs": [],
   "source": [
    "def is_power_of_number(n):\n",
    "    root = int(math.sqrt(n))\n",
    "    for i in range(2, root + 1):\n",
    "        temp = n\n",
    "        count = 0\n",
    "        while temp % i == 0:\n",
    "            temp //= i\n",
    "            count += 1\n",
    "        if count > 1:\n",
    "            return True\n",
    "    return False"
   ]
  },
  {
   "cell_type": "code",
   "execution_count": 28,
   "id": "23ad5617-4340-4fb5-bd96-c0eba159c9b0",
   "metadata": {},
   "outputs": [],
   "source": [
    "def selfridge(n):\n",
    "    d = 5\n",
    "    while True: \n",
    "        if gcd(d,n) > 1:\n",
    "            return gcd(d,n)\n",
    "        if jacobi_symbol(d,n) != 1 and jacobi_symbol(n,d)==-1:\n",
    "            return d\n",
    "        d =abs(d)+2 if d > 0 else abs(d)-2\n",
    "        \n",
    "def lukas_selfridge(n):\n",
    "    if n < 2 or n%2 == 0 or is_power_of_number(n):\n",
    "        return False\n",
    "    elif n == 2:\n",
    "        return True\n",
    "    d = selfridge(n)\n",
    "    p = 1\n",
    "    q = (p*p - d)/4\n",
    "    \n",
    "    d,s = st(q)\n",
    "    \n",
    "    "
   ]
  },
  {
   "cell_type": "code",
   "execution_count": null,
   "id": "7c81fe1f-23bd-4dc0-95b9-a7efb116d720",
   "metadata": {},
   "outputs": [],
   "source": []
  }
 ],
 "metadata": {
  "kernelspec": {
   "display_name": "Python 3 (ipykernel)",
   "language": "python",
   "name": "python3"
  },
  "language_info": {
   "codemirror_mode": {
    "name": "ipython",
    "version": 3
   },
   "file_extension": ".py",
   "mimetype": "text/x-python",
   "name": "python",
   "nbconvert_exporter": "python",
   "pygments_lexer": "ipython3",
   "version": "3.9.12"
  }
 },
 "nbformat": 4,
 "nbformat_minor": 5
}
