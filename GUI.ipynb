{
 "cells": [
  {
   "cell_type": "code",
   "execution_count": 2,
   "id": "4527b9d9-e820-4d88-8da7-a5742b55f881",
   "metadata": {},
   "outputs": [],
   "source": [
    "from tkinter import *\n",
    "import miller_rabin as mlr_rab\n",
    "  \n",
    "def clicked():\n",
    "    num = int(txt.get())\n",
    "    res = str(mlr_rab.miller_rabin(num))\n",
    "    lbl_res.configure(text=res)\n",
    "\n",
    "window = Tk()  \n",
    "window.title(\"Prime number checker\")  \n",
    "window.geometry('400x250')  \n",
    "lbl = Label(window, text=\"Enter the num:\")  \n",
    "lbl.grid(column=0, row=0)  \n",
    "txt = Entry(window,width=10)\n",
    "txt.grid(column=1, row=0)\n",
    "txt.focus()\n",
    "btn = Button(window, text=\"Enter!\", command=clicked)  \n",
    "btn.grid(column=2, row=0) \n",
    "lbl_res = Label(window, text=\"\")\n",
    "lbl_res.grid(column=0, row=1)  \n",
    "window.mainloop()"
   ]
  },
  {
   "cell_type": "code",
   "execution_count": null,
   "id": "93adf702-e151-4f76-a897-02f24c61b596",
   "metadata": {},
   "outputs": [],
   "source": []
  }
 ],
 "metadata": {
  "kernelspec": {
   "display_name": "Python 3 (ipykernel)",
   "language": "python",
   "name": "python3"
  },
  "language_info": {
   "codemirror_mode": {
    "name": "ipython",
    "version": 3
   },
   "file_extension": ".py",
   "mimetype": "text/x-python",
   "name": "python",
   "nbconvert_exporter": "python",
   "pygments_lexer": "ipython3",
   "version": "3.9.12"
  }
 },
 "nbformat": 4,
 "nbformat_minor": 5
}
