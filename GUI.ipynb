{
 "cells": [
  {
   "cell_type": "code",
   "execution_count": 2,
   "id": "4527b9d9-e820-4d88-8da7-a5742b55f881",
   "metadata": {},
   "outputs": [],
   "source": [
    "from tkinter import *\n",
    "import miller_rabin as mlr_rab\n",
    "  \n",
    "def clicked():\n",
    "    num = int(txt.get())\n",
    "    res = str(mlr_rab.miller_rabin(num))\n",
    "    lbl_res.configure(text=res)\n",
    "\n",
    "window = Tk()  \n",
    "window.title(\"Prime number checker\")  \n",
    "window.geometry('400x250')  \n",
    "lbl = Label(window, text=\"Enter the num:\")  \n",
    "lbl.grid(column=0, row=0)  \n",
    "txt = Entry(window,width=10)\n",
    "txt.grid(column=1, row=0)\n",
    "txt.focus()\n",
    "btn = Button(window, text=\"Enter!\", command=clicked)  \n",
    "btn.grid(column=2, row=0) \n",
    "lbl_res = Label(window, text=\"\")\n",
    "lbl_res.grid(column=0, row=1)  \n",
    "window.mainloop()"
   ]
  },
  {
   "cell_type": "code",
   "execution_count": 2,
   "id": "93adf702-e151-4f76-a897-02f24c61b596",
   "metadata": {},
   "outputs": [],
   "source": [
    "from customtkinter import *"
   ]
  },
  {
   "cell_type": "code",
   "execution_count": null,
   "id": "838a1c78-bef5-443f-8493-b13097b72c7a",
   "metadata": {},
   "outputs": [],
   "source": [
    "class HeaderFrame(CTkFrame):\n",
    "    def __init__(self, master, **kwargs):\n",
    "        super().__init__(master, **kwargs)\n",
    "\n",
    "class MainFrame(CTkFrame):\n",
    "    def __init__(self, master, **kwargs):\n",
    "        super().__init__(master, **kwargs)\n",
    "        self.grid_rowconfigure(0, weight=1)\n",
    "        self.grid_columnconfigure(0, weight=1)\n",
    "        self.grid_columnconfigure(1, weight=1)\n",
    "        \n",
    "        self.entry_for_num_to_check = CTkEntry(self, placeholder_text=\"Enter the number...\", width=426)\n",
    "        self.entry_for_num_to_check.grid(row=0, column=0, padx=20, pady=20)\n",
    "        \n",
    "        self.check_button = CTkButton(self, text=\"Check\", command=self.check_button_click, width=74)\n",
    "        self.check_button.grid(row=0, column=1, padx=20, pady=20)\n",
    "        \n",
    "    def check_button_click(self):\n",
    "        print(\"Check button click\")\n",
    "\n",
    "class App(CTk):\n",
    "    def __init__(self):\n",
    "        super().__init__()\n",
    "        set_appearance_mode(\"dark\")\n",
    "        self.geometry(\"600x600\")\n",
    "        self.title(\"Prime checker\")\n",
    "        # self.grid_rowconfigure(0, weight=0)\n",
    "        # self.grid_columnconfigure(0, weight=0)\n",
    "        # self.grid_rowconfigure(1, weight=0)\n",
    "\n",
    "        self.header = HeaderFrame(master=self, width=580, height=30)\n",
    "        self.header.grid(row=0, column=0, padx=10, pady=5)\n",
    "        \n",
    "        self.main_frame = MainFrame(master=self)\n",
    "        self.main_frame.grid(row=1, column=0, padx=10, pady=0)\n",
    "\n",
    "app = App()\n",
    "app.mainloop()"
   ]
  },
  {
   "cell_type": "code",
   "execution_count": null,
   "id": "35406191-194d-478d-b137-c86fb3bfb245",
   "metadata": {},
   "outputs": [],
   "source": []
  }
 ],
 "metadata": {
  "kernelspec": {
   "display_name": "Python 3 (ipykernel)",
   "language": "python",
   "name": "python3"
  },
  "language_info": {
   "codemirror_mode": {
    "name": "ipython",
    "version": 3
   },
   "file_extension": ".py",
   "mimetype": "text/x-python",
   "name": "python",
   "nbconvert_exporter": "python",
   "pygments_lexer": "ipython3",
   "version": "3.11.1"
  }
 },
 "nbformat": 4,
 "nbformat_minor": 5
}
