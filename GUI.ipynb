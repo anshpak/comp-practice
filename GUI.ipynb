{
 "cells": [
  {
   "cell_type": "code",
   "execution_count": 1,
   "id": "4527b9d9-e820-4d88-8da7-a5742b55f881",
   "metadata": {},
<<<<<<< HEAD
   "outputs": [],
   "source": [
    "from customtkinter import *\n",
    "from PIL import Image, ImageTk\n",
    "from tests import PrimeTest"
   ]
  },
  {
   "cell_type": "code",
   "execution_count": 8,
   "id": "838a1c78-bef5-443f-8493-b13097b72c7a",
   "metadata": {
    "tags": []
   },
   "outputs": [],
=======
   "outputs": [
    {
     "ename": "ModuleNotFoundError",
     "evalue": "No module named 'miller_rabin'",
     "output_type": "error",
     "traceback": [
      "\u001b[1;31m---------------------------------------------------------------------------\u001b[0m",
      "\u001b[1;31mModuleNotFoundError\u001b[0m                       Traceback (most recent call last)",
      "Input \u001b[1;32mIn [1]\u001b[0m, in \u001b[0;36m<cell line: 2>\u001b[1;34m()\u001b[0m\n\u001b[0;32m      1\u001b[0m \u001b[38;5;28;01mfrom\u001b[39;00m \u001b[38;5;21;01mtkinter\u001b[39;00m \u001b[38;5;28;01mimport\u001b[39;00m \u001b[38;5;241m*\u001b[39m\n\u001b[1;32m----> 2\u001b[0m \u001b[38;5;28;01mimport\u001b[39;00m \u001b[38;5;21;01mmiller_rabin\u001b[39;00m \u001b[38;5;28;01mas\u001b[39;00m \u001b[38;5;21;01mmlr_rab\u001b[39;00m\n\u001b[0;32m      4\u001b[0m \u001b[38;5;28;01mdef\u001b[39;00m \u001b[38;5;21mclicked\u001b[39m():\n\u001b[0;32m      5\u001b[0m     num \u001b[38;5;241m=\u001b[39m \u001b[38;5;28mint\u001b[39m(txt\u001b[38;5;241m.\u001b[39mget())\n",
      "\u001b[1;31mModuleNotFoundError\u001b[0m: No module named 'miller_rabin'"
     ]
    }
   ],
>>>>>>> 6d9917436120bf7a6b977577757e0a8647212ff7
   "source": [
    "from tkinter import *\n",
    "import miller_rabin as mlr_rab\n",
    "  \n",
    "def clicked():\n",
    "    num = int(txt.get())\n",
    "    res = str(mlr_rab.miller_rabin(num))\n",
    "    lbl_res.configure(text=res)\n",
    "\n",
    "window = Tk()  \n",
    "window.title(\"Prime number checker\")  \n",
    "window.geometry('400x250')  \n",
    "lbl = Label(window, text=\"Enter the num:\")  \n",
    "lbl.grid(column=0, row=0)  \n",
    "txt = Entry(window,width=10)\n",
    "txt.grid(column=1, row=0)\n",
    "txt.focus()\n",
    "btn = Button(window, text=\"Enter\", command=clicked)  \n",
    "btn.grid(column=2, row=0) \n",
    "lbl_res = Label(window, text=\"\")\n",
    "lbl_res.grid(column=0, row=1)  \n",
    "window.mainloop()"
   ]
  },
  {
   "cell_type": "code",
   "execution_count": null,
   "id": "93adf702-e151-4f76-a897-02f24c61b596",
   "metadata": {},
   "outputs": [],
   "source": []
  },
  {
   "cell_type": "code",
   "execution_count": null,
   "id": "eeea8b3b-8ac5-4b1e-a633-e5dc2ff32c00",
   "metadata": {},
   "outputs": [],
   "source": []
  }
 ],
 "metadata": {
  "kernelspec": {
   "display_name": "Python 3 (ipykernel)",
   "language": "python",
   "name": "python3"
  },
  "language_info": {
   "codemirror_mode": {
    "name": "ipython",
    "version": 3
   },
   "file_extension": ".py",
   "mimetype": "text/x-python",
   "name": "python",
   "nbconvert_exporter": "python",
   "pygments_lexer": "ipython3",
   "version": "3.9.12"
  }
 },
 "nbformat": 4,
 "nbformat_minor": 5
}
