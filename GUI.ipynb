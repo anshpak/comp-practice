{
 "cells": [
  {
   "cell_type": "code",
<<<<<<< HEAD
   "execution_count": 2,
   "id": "4527b9d9-e820-4d88-8da7-a5742b55f881",
=======
   "execution_count": 1,
   "id": "93adf702-e151-4f76-a897-02f24c61b596",
>>>>>>> 1d70809cd148b1019a40e8304d2e392d773e550c
   "metadata": {},
   "outputs": [
    {
     "ename": "KeyboardInterrupt",
     "evalue": "",
     "output_type": "error",
     "traceback": [
      "\u001b[1;31m---------------------------------------------------------------------------\u001b[0m",
      "\u001b[1;31mKeyboardInterrupt\u001b[0m                         Traceback (most recent call last)",
      "Input \u001b[1;32mIn [2]\u001b[0m, in \u001b[0;36m<cell line: 21>\u001b[1;34m()\u001b[0m\n\u001b[0;32m     19\u001b[0m lbl_res \u001b[38;5;241m=\u001b[39m Label(window, text\u001b[38;5;241m=\u001b[39m\u001b[38;5;124m\"\u001b[39m\u001b[38;5;124m\"\u001b[39m)\n\u001b[0;32m     20\u001b[0m lbl_res\u001b[38;5;241m.\u001b[39mgrid(column\u001b[38;5;241m=\u001b[39m\u001b[38;5;241m0\u001b[39m, row\u001b[38;5;241m=\u001b[39m\u001b[38;5;241m1\u001b[39m)  \n\u001b[1;32m---> 21\u001b[0m \u001b[43mwindow\u001b[49m\u001b[38;5;241;43m.\u001b[39;49m\u001b[43mmainloop\u001b[49m\u001b[43m(\u001b[49m\u001b[43m)\u001b[49m\n",
      "File \u001b[1;32m~\\anaconda3\\lib\\tkinter\\__init__.py:1429\u001b[0m, in \u001b[0;36mMisc.mainloop\u001b[1;34m(self, n)\u001b[0m\n\u001b[0;32m   1427\u001b[0m \u001b[38;5;28;01mdef\u001b[39;00m \u001b[38;5;21mmainloop\u001b[39m(\u001b[38;5;28mself\u001b[39m, n\u001b[38;5;241m=\u001b[39m\u001b[38;5;241m0\u001b[39m):\n\u001b[0;32m   1428\u001b[0m     \u001b[38;5;124;03m\"\"\"Call the mainloop of Tk.\"\"\"\u001b[39;00m\n\u001b[1;32m-> 1429\u001b[0m     \u001b[38;5;28;43mself\u001b[39;49m\u001b[38;5;241;43m.\u001b[39;49m\u001b[43mtk\u001b[49m\u001b[38;5;241;43m.\u001b[39;49m\u001b[43mmainloop\u001b[49m\u001b[43m(\u001b[49m\u001b[43mn\u001b[49m\u001b[43m)\u001b[49m\n",
      "\u001b[1;31mKeyboardInterrupt\u001b[0m: "
     ]
    }
   ],
   "source": [
    "from customtkinter import *\n",
    "from PIL import Image, ImageTk"
   ]
  },
  {
   "cell_type": "code",
   "execution_count": 10,
   "id": "838a1c78-bef5-443f-8493-b13097b72c7a",
   "metadata": {},
   "outputs": [
    {
     "name": "stdout",
     "output_type": "stream",
     "text": [
      "Info button click\n"
     ]
    }
   ],
   "source": [
    "class SmallFrame(CTkFrame):\n",
    "    def __init__(self, master, **kwargs):\n",
    "        super().__init__(master, **kwargs)\n",
    "        self.algo_label = CTkLabel(self, text=\"Algorithm:\", fg_color=\"transparent\")\n",
    "        self.algo_label.grid(row=0, column=0, padx=5, pady=0)\n",
    "        \n",
    "        def combobox_callback(choice):\n",
    "            print(\"Combobox dropdown clicked:\", choice)\n",
    "        \n",
    "        self.combobox = CTkComboBox(self, values=[\"Trial Divisions\", \"Solovay-Strassen\", \"Miller\", \"Miller-Rabin\"], command=combobox_callback, state=\"readonly\")\n",
    "        self.combobox.set(\"Miller-Rabin\")\n",
    "        self.combobox.grid(row=0, column=1, padx=5, pady=0)\n",
    "        \n",
    "class PalettesFrame(CTkFrame):\n",
    "    def __init__(self, master, **kwargs):\n",
    "        super().__init__(master, **kwargs)\n",
    "        \n",
    "        self.bright_theme_button = CTkButton(self, text=\"\", command=self.bright_theme_button_click, width=26, height=26, fg_color=\"white\")\n",
    "        self.bright_theme_button.grid(row=0, column=0, padx=5, pady=0)\n",
    "\n",
    "        self.dark_theme_button = CTkButton(self, text=\"\", command=self.dark_theme_button_click, width=26, height=26, fg_color=\"black\")\n",
    "        self.dark_theme_button.grid(row=0, column=1, padx=5, pady=0)\n",
    "    \n",
    "    def bright_theme_button_click(self):\n",
    "        set_appearance_mode(\"light\")\n",
    "        \n",
    "    def dark_theme_button_click(self):\n",
    "        set_appearance_mode(\"dark\")\n",
    "\n",
    "class HeaderFrame(CTkFrame):\n",
    "    def __init__(self, master, **kwargs):\n",
    "        super().__init__(master, **kwargs)\n",
    "        \n",
    "        self.small_frame = SmallFrame(master=self)\n",
    "        self.small_frame.grid(row=0, column=0, padx=20, pady=10)\n",
    "        \n",
    "        self.palletes_frame = PalettesFrame(master=self)\n",
    "        self.palletes_frame.grid(row=0, column=1, padx=68, pady=10)\n",
    "        \n",
    "        info_ico = CTkImage(Image.open(\"assets/info.png\"), size=(16, 16))\n",
    "        self.info_button = CTkButton(self, text=\"\", command=self.info_button_click, width=26, height=26, image=info_ico)\n",
    "        self.info_button.grid(row=0, column=2, padx=40, pady=10)\n",
    "        \n",
    "    def info_button_click(self):\n",
    "        print(\"Info button click\")\n",
    "\n",
    "class MainFrame(CTkFrame):\n",
    "    def __init__(self, master, **kwargs):\n",
    "        super().__init__(master, **kwargs)\n",
    "        self.grid_rowconfigure(0, weight=1)\n",
    "        self.grid_columnconfigure(0, weight=1)\n",
    "        self.grid_columnconfigure(1, weight=1)\n",
    "        \n",
    "        self.entry_for_num_to_check = CTkEntry(self, placeholder_text=\"Enter the number...\", width=426)\n",
    "        self.entry_for_num_to_check.grid(row=0, column=0, padx=20, pady=10)\n",
    "        \n",
    "        self.check_button = CTkButton(self, text=\"Check\", width=72)\n",
    "        self.check_button.grid(row=0, column=1, padx=20, pady=10)\n",
    "        \n",
    "        self.check_button.bind(\"<Button-1>\", self.check_button_click)\n",
    "        master.bind(\"<Return>\", self.check_button_click)\n",
    "        \n",
    "        self.answer_label = CTkLabel(self, text=\"\", fg_color=\"transparent\", )\n",
    "        self.answer_label.grid(row=2, column=0, columnspan=2, padx=0, pady=0)\n",
    "    \n",
    "    def check_button_click(self, event):\n",
    "        try:\n",
    "            str_num = self.entry_for_num_to_check.get()\n",
    "            if len(str_num) == 0:\n",
    "                ...\n",
    "            elif str_num.isspace():\n",
    "                self.entry_for_num_to_check.delete(0, len(str_num))\n",
    "            else:\n",
    "                num = int(str_num)\n",
    "                if num <= 0:\n",
    "                    self.answer_label.configure(text=\"Prime numbers are positive, non-zero numbers that have exactly two factors.\", text_color=\"red\")\n",
    "                    self.entry_for_num_to_check.delete(0, len(str_num))\n",
    "        except ValueError:\n",
    "            self.answer_label.configure(text=\"Invalid input. You must avoid non-numeric characters and spaces.\", fg_color=\"transparent\", text_color=\"red\")\n",
    "            self.entry_for_num_to_check.delete(0, len(str_num))\n",
    "\n",
    "class App(CTk):\n",
    "    def __init__(self):\n",
    "        super().__init__()\n",
    "        set_appearance_mode(\"dark\")\n",
    "        self.geometry(\"600x600\")\n",
    "        self.title(\"Prime checker\")\n",
    "\n",
    "        self.header = HeaderFrame(master=self, width=580, height=30)\n",
    "        self.header.grid(row=0, column=0, padx=10, pady=5)\n",
    "        \n",
    "        self.main_frame = MainFrame(master=self)\n",
    "        self.main_frame.grid(row=1, column=0, padx=10, pady=0)\n",
    "\n",
    "app = App()\n",
    "app.iconbitmap('assets\\\\favicon.ico')\n",
    "app.resizable(False, False)\n",
    "app.mainloop()"
   ]
  },
  {
   "cell_type": "code",
   "execution_count": null,
   "id": "2a64aa9a-65e6-4a8e-b530-ac73b4bc59db",
   "metadata": {},
   "outputs": [],
   "source": []
  }
 ],
 "metadata": {
  "kernelspec": {
   "display_name": "Python 3 (ipykernel)",
   "language": "python",
   "name": "python3"
  },
  "language_info": {
   "codemirror_mode": {
    "name": "ipython",
    "version": 3
   },
   "file_extension": ".py",
   "mimetype": "text/x-python",
   "name": "python",
   "nbconvert_exporter": "python",
   "pygments_lexer": "ipython3",
   "version": "3.9.12"
  }
 },
 "nbformat": 4,
 "nbformat_minor": 5
}
