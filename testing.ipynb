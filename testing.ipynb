{
 "cells": [
  {
   "cell_type": "markdown",
   "id": "43760940-1109-4163-adac-924b1182ab77",
   "metadata": {},
   "source": [
    "# Проверяю работу подключенных файлов"
   ]
  },
  {
   "cell_type": "code",
   "execution_count": 1,
   "id": "78ea0236-b465-4de1-bd79-c18a2c1d5da7",
   "metadata": {},
   "outputs": [],
   "source": [
    "import trial_division"
   ]
  },
  {
   "cell_type": "code",
   "execution_count": 2,
   "id": "f1277462-429a-4d6d-becd-fef81d2d19c7",
   "metadata": {},
   "outputs": [
    {
     "data": {
      "text/plain": [
       "True"
      ]
     },
     "execution_count": 2,
     "metadata": {},
     "output_type": "execute_result"
    }
   ],
   "source": [
    "trial_division.trial_division(13)"
   ]
  },
  {
   "cell_type": "code",
   "execution_count": 3,
   "id": "5d356f09-3878-414a-8e65-22b95a89c10f",
   "metadata": {},
   "outputs": [],
   "source": [
    "import miller_rabin"
   ]
  },
  {
   "cell_type": "code",
   "execution_count": 4,
   "id": "333bb577-3c18-4929-9583-a9ea03a50bb8",
   "metadata": {},
   "outputs": [
    {
     "data": {
      "text/plain": [
       "False"
      ]
     },
     "execution_count": 4,
     "metadata": {},
     "output_type": "execute_result"
    }
   ],
   "source": [
    "miller_rabin.miller_rabin(123)"
   ]
  },
  {
   "cell_type": "markdown",
   "id": "f5107b6a-df3a-4f72-bdcf-3c63311edf2a",
   "metadata": {
    "tags": []
   },
   "source": [
    "# Процессор (CPU)"
   ]
  },
  {
   "cell_type": "markdown",
   "id": "286a0fa3-2c25-422d-8313-524cfc11fbc1",
   "metadata": {},
   "source": [
    "## [Общая информация](https://www.reg.ru/blog/chto-takoe-protsessor-cpu/#:~:text=%D0%A2%D0%B0%D0%BA%D1%82%D0%BE%D0%B2%D0%B0%D1%8F%20%D1%87%D0%B0%D1%81%D1%82%D0%BE%D1%82%D0%B0%20%E2%80%95%20%D1%87%D0%B8%D1%81%D0%BB%D0%BE%20%D0%B2%D1%8B%D0%BF%D0%BE%D0%BB%D0%BD%D0%B5%D0%BD%D0%BD%D1%8B%D1%85%20%D0%BE%D0%BF%D0%B5%D1%80%D0%B0%D1%86%D0%B8%D0%B9,%D1%87%D0%B0%D1%81%D1%82%D0%BE%D1%82%D0%B0%2C%20%D1%82%D0%B5%D0%BC%20%D0%B1%D1%8B%D1%81%D1%82%D1%80%D0%B5%D0%B5%20%D1%80%D0%B0%D0%B1%D0%BE%D1%82%D0%B0%D0%B5%D1%82%20%D0%BC%D0%B0%D1%88%D0%B8%D0%BD%D0%B0.)"
   ]
  },
  {
   "cell_type": "markdown",
   "id": "67645a20-f299-43dd-9739-6cd29b8286de",
   "metadata": {},
   "source": [
    "В каждом вычислительном устройстве (ПК, смартфон, фотоаппарат) есть центр, который отвечает за правильную работу машины ― процессор."
   ]
  },
  {
   "cell_type": "markdown",
   "id": "135d5b60-de7b-45bd-8279-898d44d3d223",
   "metadata": {},
   "source": [
    "В широком смысле процессор ― это устройство, которое выполняет вычислительные и логические операции с данными. Чаще всего этот термин используется для обозначения центрального процессора устройства."
   ]
  },
  {
   "cell_type": "markdown",
   "id": "2710c5b5-e23f-40dc-a163-a4ed631f6dc7",
   "metadata": {},
   "source": [
    "От мощности центрального процессора зависит скорость обработки команд и продуктивность работы других составляющих компьютера. Например, можно купить современную видеокарту, но она не сможет показать свои возможности, если управляется слабым CPU."
   ]
  },
  {
   "cell_type": "markdown",
   "id": "0ee10f2e-5dc2-4228-9d51-79bc46eb4b60",
   "metadata": {},
   "source": [
    "Какие функции выполняет центральный процессор CPU? Главная функция ― управление всеми операциями компьютера: от простейших сложений чисел на калькуляторе до запуска компьютерных игр. Если рассматривать основные функции центрального процессора подробнее, CPU:\n",
    "1. получает данные из оперативной памяти, выполняет с ними арифметические и логические операции, передаёт их на внешние устройства,\n",
    "2. формирует сигналы, необходимые для работы внутренних узлов и внешних устройств,\n",
    "3. временно хранит результаты выполненных операций, переданных сигналов и других данных,\n",
    "4. принимает запросы от внешних устройств и обрабатывает их."
   ]
  },
  {
   "cell_type": "markdown",
   "id": "6ee5bdd4-8b9d-46e4-bfe4-9850f3847749",
   "metadata": {},
   "source": [
    "## Из чего состоит процессор"
   ]
  },
  {
   "cell_type": "markdown",
   "id": "68246e78-e22e-488a-83d1-53537020f7f6",
   "metadata": {},
   "source": [
    "### Ядро процессора"
   ]
  },
  {
   "cell_type": "markdown",
   "id": "0f64f4af-132b-4ecd-a445-2746ae041486",
   "metadata": {},
   "source": [
    "Ядро процессора, которое выполняет основную работу. Оно позволяет читать, расшифровывать, выполнять и отправлять инструкции. Ядро состоит из следующих частей:\n",
    "1. Арифметико-логическое устройство (АЛУ). Выполняет основные математические и логические операции. Все вычисления производятся в двоичной системе.\n",
    "2. Устройство управления (УУ). Управляет работой CPU с помощью электрических сигналов. От него зависит согласованность работы всех частей процессора и его связь с внешними устройствами."
   ]
  },
  {
   "cell_type": "markdown",
   "id": "78223d68-615a-4bc8-a528-160ebd5f0656",
   "metadata": {},
   "source": [
    "Каждое ядро может выполнять только одну задачу, хоть и за долю секунды. Одноядерный процессор выполняет каждую задачу последовательно. Для современного объёма операций этого мало, поэтому ценятся CPU с более чем одним ядром, чтобы выполнять несколько задач одновременно. Например, двухъядерный выполняет две задачи одновременно, трехъядерный ― три и т. д."
   ]
  },
  {
   "cell_type": "markdown",
   "id": "789ebd8b-dbcd-4342-a151-8cb8f83b0834",
   "metadata": {},
   "source": [
    "### Запоминающее устройство"
   ]
  },
  {
   "cell_type": "markdown",
   "id": "b0db7207-bf4b-4650-9134-8698d8d67ff0",
   "metadata": {},
   "source": [
    "Это небольшая внутренняя память центрального процессора. Она состоит из регистров и кеш-памяти. В регистрах хранятся текущие команды, данные, промежуточные результаты операции. В кеш-память загружаются часто используемые команды и данные из оперативной памяти. Обратиться в кеш быстрее, чем в оперативную память, поэтому объём кеш-памяти влияет на скорость выполнения запросов."
   ]
  },
  {
   "cell_type": "markdown",
   "id": "078b9ac4-f801-4f68-9a98-492b7e63df91",
   "metadata": {},
   "source": [
    "### Шины"
   ]
  },
  {
   "cell_type": "markdown",
   "id": "82018999-9cc6-4668-a706-a13e323121d2",
   "metadata": {},
   "source": [
    "Шины ― это каналы, по которым передаётся информация. Они как рельсы для перевозки данных."
   ]
  },
  {
   "cell_type": "markdown",
   "id": "7e61ad9a-9644-496c-9006-00abb42d94cd",
   "metadata": {},
   "source": [
    "### Производительность"
   ]
  },
  {
   "cell_type": "markdown",
   "id": "69f7e01d-afd4-4349-9ff1-e651a973cd0f",
   "metadata": {},
   "source": [
    "Главной характеристикой процессора является производительность. Она зависит от двух параметров: тактовая частота и разрядность.\n",
    "\n",
    "Тактовая частота ― число выполненных операций в секунду. Измеряется в мегагерцах (МГц — миллион тактов в секунду ) и гигагерцах (ГГц — миллиард тактов в секунду). Чем больше тактовая частота, тем быстрее работает машина.\n",
    "\n",
    "Разрядность ― количество информации (байт), которое можно передать за такт. Разрядность процессора бывает 8, 16, 32, 64 бита. Современные процессоры 32-х и 64-битные."
   ]
  },
  {
   "cell_type": "markdown",
   "id": "745cf2cf-7954-4563-982f-dd86059bd94f",
   "metadata": {},
   "source": [
    "## [Определить](https://comp-security.net/%D0%BE%D0%BF%D1%80%D0%B5%D0%B4%D0%B5%D0%BB%D0%B8%D1%82%D1%8C-%D1%80%D0%B0%D0%B7%D1%80%D1%8F%D0%B4%D0%BD%D0%BE%D1%81%D1%82%D1%8C-%D0%BF%D1%80%D0%BE%D1%86%D0%B5%D1%81%D1%81%D0%BE%D1%80%D0%B0/) разрядность процессора"
   ]
  },
  {
   "cell_type": "markdown",
   "id": "e70165bc-6a01-488c-939d-899359d7e75c",
   "metadata": {},
   "source": [
    "# Пробую работать через python"
   ]
  },
  {
   "cell_type": "markdown",
   "id": "c5b9ac92-f992-4e7f-8cac-fbe1fc5f1a45",
   "metadata": {},
   "source": [
    "## [cpuinfo](https://github.com/workhorsy/py-cpuinfo)"
   ]
  },
  {
   "cell_type": "markdown",
   "id": "8c6190ab-bb81-4297-bcb7-d8801be07a88",
   "metadata": {},
   "source": [
    "[Устанавливаю](https://ru.stackoverflow.com/questions/1227146/python-%D0%A3%D0%B7%D0%BD%D0%B0%D1%82%D1%8C-%D0%B2%D1%81%D0%B5-%D0%BE-%D0%BF%D1%80%D0%BE%D1%86%D0%B5%D1%81%D1%81%D0%BE%D1%80%D0%B5https://ru.stackoverflow.com/questions/1227146/python-%D0%A3%D0%B7%D0%BD%D0%B0%D1%82%D1%8C-%D0%B2%D1%81%D0%B5-%D0%BE-%D0%BF%D1%80%D0%BE%D1%86%D0%B5%D1%81%D1%81%D0%BE%D1%80%D0%B5) пакет.\n",
    "\n",
    "Py-cpuinfo gets CPU info with pure Python. Py-cpuinfo should work without any extra programs or libraries, beyond what your OS provides. It does not require any compilation(C/C++, assembly, et cetera) to use. It works with Python 3.Py-cpuinfo gets CPU info with pure Python. Py-cpuinfo should work without any extra programs or libraries, beyond what your OS provides. It does not require any compilation(C/C++, assembly, et cetera) to use. It works with Python 3."
   ]
  },
  {
   "cell_type": "code",
   "execution_count": 4,
   "id": "b81e74a1-5902-444b-9d6f-6b2b31df00b2",
   "metadata": {},
   "outputs": [
    {
     "data": {
      "text/plain": [
       "'Intel(R) Core(TM) i3-6006U CPU @ 2.00GHz'"
      ]
     },
     "execution_count": 4,
     "metadata": {},
     "output_type": "execute_result"
    }
   ],
   "source": [
    "import cpuinfo\n",
    "cpuinfo.get_cpu_info()['brand_raw']"
   ]
  },
  {
   "cell_type": "code",
   "execution_count": 8,
   "id": "7d6cd3d6-7a78-4f52-97b0-8c66823c7278",
   "metadata": {},
   "outputs": [
    {
     "name": "stdout",
     "output_type": "stream",
     "text": [
      "python_version: 3.11.1.final.0 (64 bit)\n",
      "cpuinfo_version: [9, 0, 0]\n",
      "cpuinfo_version_string: 9.0.0\n",
      "arch: X86_64\n",
      "bits: 64\n",
      "count: 4\n",
      "arch_string_raw: AMD64\n",
      "vendor_id_raw: GenuineIntel\n",
      "brand_raw: Intel(R) Core(TM) i3-6006U CPU @ 2.00GHz\n",
      "hz_advertised_friendly: 2.0000 GHz\n",
      "hz_actual_friendly: 1.9920 GHz\n",
      "hz_advertised: [2000000000, 0]\n",
      "hz_actual: [1992000000, 0]\n",
      "l2_cache_size: 524288\n",
      "stepping: 3\n",
      "model: 78\n",
      "family: 6\n",
      "l3_cache_size: 3145728\n",
      "flags: ['3dnow', '3dnowprefetch', 'abm', 'acpi', 'adx', 'aes', 'apic', 'avx', 'avx2', 'bmi1', 'bmi2', 'clflush', 'clflushopt', 'cmov', 'cx16', 'cx8', 'de', 'ds_cpl', 'dtes64', 'dts', 'erms', 'est', 'f16c', 'fma', 'fpu', 'fxsr', 'ht', 'ia64', 'intel_pt', 'invpcid', 'lahf_lm', 'mca', 'mce', 'mmx', 'monitor', 'movbe', 'mpx', 'msr', 'mtrr', 'osxsave', 'pae', 'pat', 'pbe', 'pcid', 'pclmulqdq', 'pdcm', 'pge', 'pni', 'popcnt', 'pse', 'pse36', 'rdrnd', 'rdseed', 'sep', 'serial', 'sgx', 'smap', 'smep', 'ss', 'sse', 'sse2', 'sse4_1', 'sse4_2', 'ssse3', 'tm', 'tm2', 'tsc', 'tscdeadline', 'vme', 'vmx', 'x2apic', 'xsave', 'xtpr']\n",
      "l2_cache_line_size: 256\n",
      "l2_cache_associativity: 6\n"
     ]
    }
   ],
   "source": [
    "if __name__ == '__main__':\n",
    "    from cpuinfo import get_cpu_info\n",
    "\n",
    "    for key, value in get_cpu_info().items():\n",
    "        print(\"{0}: {1}\".format(key, value))\n",
    "        \n",
    "# d.items() возвращает список кортежей вида (key, value)"
   ]
  },
  {
   "cell_type": "markdown",
   "id": "93d3459a-a139-42c8-9923-6b22317e189a",
   "metadata": {},
   "source": [
    "Видимо пакет cpuinfo просто показывает всю доступную информацию о процессоре вместо того, что нам нужно: данные о текущей загруженности процессора."
   ]
  },
  {
   "cell_type": "code",
   "execution_count": null,
   "id": "b6386e88-d437-4457-b520-9e5268919016",
   "metadata": {},
   "outputs": [],
   "source": []
  }
 ],
 "metadata": {
  "kernelspec": {
   "display_name": "Python 3 (ipykernel)",
   "language": "python",
   "name": "python3"
  },
  "language_info": {
   "codemirror_mode": {
    "name": "ipython",
    "version": 3
   },
   "file_extension": ".py",
   "mimetype": "text/x-python",
   "name": "python",
   "nbconvert_exporter": "python",
   "pygments_lexer": "ipython3",
   "version": "3.11.1"
  }
 },
 "nbformat": 4,
 "nbformat_minor": 5
}
