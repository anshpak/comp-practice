{
 "cells": [
  {
   "cell_type": "code",
   "execution_count": 4,
   "id": "3e7b64c8-09bb-4cff-a897-96d6346575e3",
   "metadata": {},
   "outputs": [],
   "source": [
    "def ferma(n):\n",
    "    \"\"\"\n",
    "    тест для числе ферма\n",
    "    \"\"\"\n",
    "    if n == 3 or n == 5 or n == 17 or n == 257 or n == 65537:\n",
    "        return True\n",
    "    else:\n",
    "        return False"
   ]
  },
  {
   "cell_type": "code",
   "execution_count": null,
   "id": "73772791-ded8-4837-b537-c3272e568ed3",
   "metadata": {},
   "outputs": [],
   "source": []
  }
 ],
 "metadata": {
  "kernelspec": {
   "display_name": "Python 3 (ipykernel)",
   "language": "python",
   "name": "python3"
  },
  "language_info": {
   "codemirror_mode": {
    "name": "ipython",
    "version": 3
   },
   "file_extension": ".py",
   "mimetype": "text/x-python",
   "name": "python",
   "nbconvert_exporter": "python",
   "pygments_lexer": "ipython3",
   "version": "3.9.12"
  }
 },
 "nbformat": 4,
 "nbformat_minor": 5
}
