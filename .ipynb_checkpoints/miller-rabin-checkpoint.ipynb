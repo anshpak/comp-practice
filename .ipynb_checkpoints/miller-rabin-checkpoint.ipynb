{
 "cells": [
  {
   "cell_type": "code",
   "execution_count": 1,
   "id": "655f8385-d4b2-4693-96b2-55b05b503982",
   "metadata": {},
   "outputs": [],
   "source": [
    "def st(n):\n",
    "    s = 0\n",
    "    t = n - 1\n",
    "    while t % 2 == 0:\n",
    "        s += 1\n",
    "        t = t // 2\n",
    "    return s, t"
   ]
  },
  {
   "cell_type": "code",
   "execution_count": 2,
   "id": "0923c708-00e5-48b2-9394-c1179bb990fd",
   "metadata": {
    "slideshow": {
     "slide_type": "subslide"
    }
   },
   "outputs": [],
   "source": [
    "def WitnessQ(a, n, s=0, t=0):\n",
    "    if n % 2 == 0:\n",
    "        return False\n",
    "    if s == 0:\n",
    "        s, t = st(n)    \n",
    "    if gcd(a,n) > 1:\n",
    "        return False\n",
    "    b = pow(a,t,n)\n",
    "    if b == 1 or b == n-1:\n",
    "        return True\n",
    "    for _ in range(1,s):\n",
    "        b = b**2 % n\n",
    "        if b == n-1:\n",
    "            return True\n",
    "    return False"
   ]
  },
  {
   "cell_type": "code",
   "execution_count": 3,
   "id": "5f7281e5-d534-460e-ab66-baee149e0bce",
   "metadata": {
    "slideshow": {
     "slide_type": "-"
    }
   },
   "outputs": [],
   "source": [
    "def MillerRabinTest(n, k = 10):\n",
    "    from random import randint\n",
    "    if n % 2 == 0:\n",
    "        return False\n",
    "    s,t = st(n)\n",
    "    for _ in range(k):\n",
    "        a = randint(2,n-1)\n",
    "        if not WitnessQ(a,n,s,t):\n",
    "            return False\n",
    "    return True"
   ]
  },
  {
   "cell_type": "code",
   "execution_count": null,
   "id": "c281e915-49ce-455b-b74e-0374372f2b39",
   "metadata": {},
   "outputs": [],
   "source": []
  }
 ],
 "metadata": {
  "kernelspec": {
   "display_name": "Python 3 (ipykernel)",
   "language": "python",
   "name": "python3"
  },
  "language_info": {
   "codemirror_mode": {
    "name": "ipython",
    "version": 3
   },
   "file_extension": ".py",
   "mimetype": "text/x-python",
   "name": "python",
   "nbconvert_exporter": "python",
   "pygments_lexer": "ipython3",
   "version": "3.9.12"
  }
 },
 "nbformat": 4,
 "nbformat_minor": 5
}
