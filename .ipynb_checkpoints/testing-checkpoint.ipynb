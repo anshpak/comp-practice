{
 "cells": [
  {
   "cell_type": "markdown",
   "id": "43760940-1109-4163-adac-924b1182ab77",
   "metadata": {},
   "source": [
    "# Проверяю работу подключенных файлов"
   ]
  },
  {
   "cell_type": "code",
   "execution_count": 1,
   "id": "78ea0236-b465-4de1-bd79-c18a2c1d5da7",
   "metadata": {},
   "outputs": [],
   "source": [
    "import trial_division"
   ]
  },
  {
   "cell_type": "code",
   "execution_count": 2,
   "id": "f1277462-429a-4d6d-becd-fef81d2d19c7",
   "metadata": {},
   "outputs": [
    {
     "data": {
      "text/plain": [
       "True"
      ]
     },
     "execution_count": 2,
     "metadata": {},
     "output_type": "execute_result"
    }
   ],
   "source": [
    "trial_division.trial_division(13)"
   ]
  },
  {
   "cell_type": "code",
   "execution_count": 3,
   "id": "5d356f09-3878-414a-8e65-22b95a89c10f",
   "metadata": {},
   "outputs": [],
   "source": [
    "import miller_rabin"
   ]
  },
  {
   "cell_type": "code",
   "execution_count": 4,
   "id": "333bb577-3c18-4929-9583-a9ea03a50bb8",
   "metadata": {},
   "outputs": [
    {
     "data": {
      "text/plain": [
       "False"
      ]
     },
     "execution_count": 4,
     "metadata": {},
     "output_type": "execute_result"
    }
   ],
   "source": [
    "miller_rabin.miller_rabin(123)"
   ]
  },
  {
   "cell_type": "markdown",
   "id": "f5107b6a-df3a-4f72-bdcf-3c63311edf2a",
   "metadata": {
    "tags": []
   },
   "source": [
    "# Процессор (CPU)"
   ]
  },
  {
   "cell_type": "markdown",
   "id": "286a0fa3-2c25-422d-8313-524cfc11fbc1",
   "metadata": {},
   "source": [
    "## [Общая информация](https://www.reg.ru/blog/chto-takoe-protsessor-cpu/#:~:text=%D0%A2%D0%B0%D0%BA%D1%82%D0%BE%D0%B2%D0%B0%D1%8F%20%D1%87%D0%B0%D1%81%D1%82%D0%BE%D1%82%D0%B0%20%E2%80%95%20%D1%87%D0%B8%D1%81%D0%BB%D0%BE%20%D0%B2%D1%8B%D0%BF%D0%BE%D0%BB%D0%BD%D0%B5%D0%BD%D0%BD%D1%8B%D1%85%20%D0%BE%D0%BF%D0%B5%D1%80%D0%B0%D1%86%D0%B8%D0%B9,%D1%87%D0%B0%D1%81%D1%82%D0%BE%D1%82%D0%B0%2C%20%D1%82%D0%B5%D0%BC%20%D0%B1%D1%8B%D1%81%D1%82%D1%80%D0%B5%D0%B5%20%D1%80%D0%B0%D0%B1%D0%BE%D1%82%D0%B0%D0%B5%D1%82%20%D0%BC%D0%B0%D1%88%D0%B8%D0%BD%D0%B0.)"
   ]
  },
  {
   "cell_type": "markdown",
   "id": "67645a20-f299-43dd-9739-6cd29b8286de",
   "metadata": {},
   "source": [
    "В каждом вычислительном устройстве (ПК, смартфон, фотоаппарат) есть центр, который отвечает за правильную работу машины ― процессор."
   ]
  },
  {
   "cell_type": "markdown",
   "id": "135d5b60-de7b-45bd-8279-898d44d3d223",
   "metadata": {},
   "source": [
    "В широком смысле процессор ― это устройство, которое выполняет вычислительные и логические операции с данными. Чаще всего этот термин используется для обозначения центрального процессора устройства."
   ]
  },
  {
   "cell_type": "markdown",
   "id": "2710c5b5-e23f-40dc-a163-a4ed631f6dc7",
   "metadata": {},
   "source": [
    "От мощности центрального процессора зависит скорость обработки команд и продуктивность работы других составляющих компьютера. Например, можно купить современную видеокарту, но она не сможет показать свои возможности, если управляется слабым CPU."
   ]
  },
  {
   "cell_type": "markdown",
   "id": "0ee10f2e-5dc2-4228-9d51-79bc46eb4b60",
   "metadata": {},
   "source": [
    "Какие функции выполняет центральный процессор CPU? Главная функция ― управление всеми операциями компьютера: от простейших сложений чисел на калькуляторе до запуска компьютерных игр. Если рассматривать основные функции центрального процессора подробнее, CPU:\n",
    "1. Получает данные из оперативной памяти, выполняет с ними арифметические и логические операции, передаёт их на внешние устройства,\n",
    "2. Формирует сигналы, необходимые для работы внутренних узлов и внешних устройств,\n",
    "3. Временно хранит результаты выполненных операций, переданных сигналов и других данных,\n",
    "4. Принимает запросы от внешних устройств и обрабатывает их."
   ]
  },
  {
   "cell_type": "markdown",
   "id": "6ee5bdd4-8b9d-46e4-bfe4-9850f3847749",
   "metadata": {},
   "source": [
    "## Из чего состоит процессор"
   ]
  },
  {
   "cell_type": "markdown",
   "id": "68246e78-e22e-488a-83d1-53537020f7f6",
   "metadata": {},
   "source": [
    "### Ядро процессора"
   ]
  },
  {
   "cell_type": "markdown",
   "id": "0f64f4af-132b-4ecd-a445-2746ae041486",
   "metadata": {},
   "source": [
    "Ядро процессора, которое выполняет основную работу. Оно позволяет читать, расшифровывать, выполнять и отправлять инструкции. Ядро состоит из следующих частей:\n",
    "1. Арифметико-логическое устройство (АЛУ). Выполняет основные математические и логические операции. Все вычисления производятся в двоичной системе.\n",
    "2. Устройство управления (УУ). Управляет работой CPU с помощью электрических сигналов. От него зависит согласованность работы всех частей процессора и его связь с внешними устройствами."
   ]
  },
  {
   "cell_type": "markdown",
   "id": "78223d68-615a-4bc8-a528-160ebd5f0656",
   "metadata": {},
   "source": [
    "Каждое ядро может выполнять только одну задачу, хоть и за долю секунды. Одноядерный процессор выполняет каждую задачу последовательно. Для современного объёма операций этого мало, поэтому ценятся CPU с более чем одним ядром, чтобы выполнять несколько задач одновременно. Например, двухъядерный выполняет две задачи одновременно, трехъядерный ― три и т. д."
   ]
  },
  {
   "cell_type": "markdown",
   "id": "789ebd8b-dbcd-4342-a151-8cb8f83b0834",
   "metadata": {},
   "source": [
    "### Запоминающее устройство"
   ]
  },
  {
   "cell_type": "markdown",
   "id": "b0db7207-bf4b-4650-9134-8698d8d67ff0",
   "metadata": {},
   "source": [
    "Это небольшая внутренняя память центрального процессора. Она состоит из регистров и кеш-памяти. В регистрах хранятся текущие команды, данные, промежуточные результаты операции. В кеш-память загружаются часто используемые команды и данные из оперативной памяти. Обратиться в кеш быстрее, чем в оперативную память, поэтому объём кеш-памяти влияет на скорость выполнения запросов."
   ]
  },
  {
   "cell_type": "markdown",
   "id": "078b9ac4-f801-4f68-9a98-492b7e63df91",
   "metadata": {},
   "source": [
    "### Шины"
   ]
  },
  {
   "cell_type": "markdown",
   "id": "82018999-9cc6-4668-a706-a13e323121d2",
   "metadata": {},
   "source": [
    "Шины ― это каналы, по которым передаётся информация. Они как рельсы для перевозки данных."
   ]
  },
  {
   "cell_type": "markdown",
   "id": "7e61ad9a-9644-496c-9006-00abb42d94cd",
   "metadata": {},
   "source": [
    "### Производительность"
   ]
  },
  {
   "cell_type": "markdown",
   "id": "69f7e01d-afd4-4349-9ff1-e651a973cd0f",
   "metadata": {},
   "source": [
    "Главной характеристикой процессора является производительность. Она зависит от двух параметров: тактовая частота и разрядность.\n",
    "\n",
    "Тактовая частота ― число выполненных операций в секунду. Измеряется в мегагерцах (МГц — миллион тактов в секунду ) и гигагерцах (ГГц — миллиард тактов в секунду). Чем больше тактовая частота, тем быстрее работает машина.\n",
    "\n",
    "Разрядность ― количество информации (байт), которое можно передать за такт. Разрядность процессора бывает 8, 16, 32, 64 бита. Современные процессоры 32-х и 64-битные."
   ]
  },
  {
   "cell_type": "markdown",
   "id": "745cf2cf-7954-4563-982f-dd86059bd94f",
   "metadata": {},
   "source": [
    "## [Определить](https://comp-security.net/%D0%BE%D0%BF%D1%80%D0%B5%D0%B4%D0%B5%D0%BB%D0%B8%D1%82%D1%8C-%D1%80%D0%B0%D0%B7%D1%80%D1%8F%D0%B4%D0%BD%D0%BE%D1%81%D1%82%D1%8C-%D0%BF%D1%80%D0%BE%D1%86%D0%B5%D1%81%D1%81%D0%BE%D1%80%D0%B0/) разрядность процессора"
   ]
  },
  {
   "cell_type": "markdown",
   "id": "e70165bc-6a01-488c-939d-899359d7e75c",
   "metadata": {},
   "source": [
    "# CPU"
   ]
  },
  {
   "cell_type": "markdown",
   "id": "c5b9ac92-f992-4e7f-8cac-fbe1fc5f1a45",
   "metadata": {},
   "source": [
    "## [cpuinfo](https://github.com/workhorsy/py-cpuinfo)"
   ]
  },
  {
   "cell_type": "markdown",
   "id": "8c6190ab-bb81-4297-bcb7-d8801be07a88",
   "metadata": {},
   "source": [
    "[Устанавливаю](https://ru.stackoverflow.com/questions/1227146/python-%D0%A3%D0%B7%D0%BD%D0%B0%D1%82%D1%8C-%D0%B2%D1%81%D0%B5-%D0%BE-%D0%BF%D1%80%D0%BE%D1%86%D0%B5%D1%81%D1%81%D0%BE%D1%80%D0%B5https://ru.stackoverflow.com/questions/1227146/python-%D0%A3%D0%B7%D0%BD%D0%B0%D1%82%D1%8C-%D0%B2%D1%81%D0%B5-%D0%BE-%D0%BF%D1%80%D0%BE%D1%86%D0%B5%D1%81%D1%81%D0%BE%D1%80%D0%B5) пакет.\n",
    "\n",
    "Py-cpuinfo gets CPU info with pure Python. Py-cpuinfo should work without any extra programs or libraries, beyond what your OS provides. It does not require any compilation(C/C++, assembly, et cetera) to use. It works with Python 3.Py-cpuinfo gets CPU info with pure Python. Py-cpuinfo should work without any extra programs or libraries, beyond what your OS provides. It does not require any compilation(C/C++, assembly, et cetera) to use. It works with Python 3."
   ]
  },
  {
   "cell_type": "code",
   "execution_count": 4,
   "id": "b81e74a1-5902-444b-9d6f-6b2b31df00b2",
   "metadata": {},
   "outputs": [
    {
     "data": {
      "text/plain": [
       "'Intel(R) Core(TM) i3-6006U CPU @ 2.00GHz'"
      ]
     },
     "execution_count": 4,
     "metadata": {},
     "output_type": "execute_result"
    }
   ],
   "source": [
    "import cpuinfo\n",
    "cpuinfo.get_cpu_info()['brand_raw']"
   ]
  },
  {
   "cell_type": "code",
   "execution_count": 8,
   "id": "7d6cd3d6-7a78-4f52-97b0-8c66823c7278",
   "metadata": {},
   "outputs": [
    {
     "name": "stdout",
     "output_type": "stream",
     "text": [
      "python_version: 3.11.1.final.0 (64 bit)\n",
      "cpuinfo_version: [9, 0, 0]\n",
      "cpuinfo_version_string: 9.0.0\n",
      "arch: X86_64\n",
      "bits: 64\n",
      "count: 4\n",
      "arch_string_raw: AMD64\n",
      "vendor_id_raw: GenuineIntel\n",
      "brand_raw: Intel(R) Core(TM) i3-6006U CPU @ 2.00GHz\n",
      "hz_advertised_friendly: 2.0000 GHz\n",
      "hz_actual_friendly: 1.9920 GHz\n",
      "hz_advertised: [2000000000, 0]\n",
      "hz_actual: [1992000000, 0]\n",
      "l2_cache_size: 524288\n",
      "stepping: 3\n",
      "model: 78\n",
      "family: 6\n",
      "l3_cache_size: 3145728\n",
      "flags: ['3dnow', '3dnowprefetch', 'abm', 'acpi', 'adx', 'aes', 'apic', 'avx', 'avx2', 'bmi1', 'bmi2', 'clflush', 'clflushopt', 'cmov', 'cx16', 'cx8', 'de', 'ds_cpl', 'dtes64', 'dts', 'erms', 'est', 'f16c', 'fma', 'fpu', 'fxsr', 'ht', 'ia64', 'intel_pt', 'invpcid', 'lahf_lm', 'mca', 'mce', 'mmx', 'monitor', 'movbe', 'mpx', 'msr', 'mtrr', 'osxsave', 'pae', 'pat', 'pbe', 'pcid', 'pclmulqdq', 'pdcm', 'pge', 'pni', 'popcnt', 'pse', 'pse36', 'rdrnd', 'rdseed', 'sep', 'serial', 'sgx', 'smap', 'smep', 'ss', 'sse', 'sse2', 'sse4_1', 'sse4_2', 'ssse3', 'tm', 'tm2', 'tsc', 'tscdeadline', 'vme', 'vmx', 'x2apic', 'xsave', 'xtpr']\n",
      "l2_cache_line_size: 256\n",
      "l2_cache_associativity: 6\n"
     ]
    }
   ],
   "source": [
    "if __name__ == '__main__':\n",
    "    from cpuinfo import get_cpu_info\n",
    "\n",
    "    for key, value in get_cpu_info().items():\n",
    "        print(\"{0}: {1}\".format(key, value))\n",
    "        \n",
    "# d.items() возвращает список кортежей вида (key, value)"
   ]
  },
  {
   "cell_type": "markdown",
   "id": "93d3459a-a139-42c8-9923-6b22317e189a",
   "metadata": {},
   "source": [
    "Видимо пакет cpuinfo просто показывает всю доступную информацию о процессоре вместо того, что нам нужно: данные о текущей загруженности процессора."
   ]
  },
  {
   "cell_type": "markdown",
   "id": "519bbc60-fdbb-4af4-8f88-a7af6ea9fdd3",
   "metadata": {},
   "source": [
    "## [psutil](https://www.geeksforgeeks.org/how-to-get-current-cpu-and-ram-usage-in-python/)"
   ]
  },
  {
   "cell_type": "markdown",
   "id": "918dac11-1126-47d7-b1a9-142ca6994e72",
   "metadata": {
    "tags": []
   },
   "source": [
    "Psutil is a Python cross-platform library used to access system details and process utilities. It is used to keep track of various resources utilization in the system. Usage of resources like CPU, memory, disks, network, sensors can be monitored. Hence, this library is used for system monitoring, profiling, limiting process resources, and the management of running processes. It is supported in Python versions 2.6, 2.7, and 3.4+. "
   ]
  },
  {
   "cell_type": "markdown",
   "id": "467b8a5c-1ecf-4d90-959f-4ade5b7d6732",
   "metadata": {},
   "source": [
    "The function psutil.cpu_percent() provides the current system-wide CPU utilization in the form of a percentage. It takes a parameter which is the time interval (seconds). Since CPU utilization is calculated over a period of time it is recommended to provide a time interval."
   ]
  },
  {
   "cell_type": "code",
   "execution_count": 99,
   "id": "6fc94938-7e4b-4366-8570-efccaaf8c50e",
   "metadata": {},
   "outputs": [
    {
     "name": "stdout",
     "output_type": "stream",
     "text": [
      "The CPU usage is:  12.6\n"
     ]
    }
   ],
   "source": [
    "# importing the library\n",
    "import psutil\n",
    "\n",
    "# calling psutil.cpu_precent() for 4 seconds\n",
    "print('The CPU usage is: ', psutil.cpu_percent(15))"
   ]
  },
  {
   "cell_type": "markdown",
   "id": "3828c0f1-84b7-4865-81f2-8a73be6470cb",
   "metadata": {
    "tags": []
   },
   "source": [
    "## [os](https://www.geeksforgeeks.org/how-to-get-current-cpu-and-ram-usage-in-python/)"
   ]
  },
  {
   "cell_type": "markdown",
   "id": "e53117d8-9935-4228-8a14-b61064805e25",
   "metadata": {},
   "source": [
    "The psutil.getloadavg() provides the load information of the CPU in the form of a tuple. The psutil.getloadavg() runs in the background and the results get updated every 5 seconds. The os.cpu_count() returns the number of CPUs in the system."
   ]
  },
  {
   "cell_type": "code",
   "execution_count": 116,
   "id": "7ed61d2b-d583-4d75-be2b-72df5c76838a",
   "metadata": {},
   "outputs": [
    {
     "name": "stdout",
     "output_type": "stream",
     "text": [
      "The CPU usage is :  3.5000000000000004\n"
     ]
    }
   ],
   "source": [
    "import os\n",
    "import psutil\n",
    "\n",
    "# getting load over 15 minutes\n",
    "load1, load5, load15 = psutil.getloadavg()\n",
    "\n",
    "cpu_usage = (load15 / os.cpu_count()) * 100\n",
    "\n",
    "print(\"The CPU usage is : \", cpu_usage)"
   ]
  },
  {
   "cell_type": "code",
   "execution_count": 117,
   "id": "4f6bd40a-a704-46f8-910c-37d6b7d40951",
   "metadata": {},
   "outputs": [
    {
     "data": {
      "text/plain": [
       "(0.01, 0.1, 0.14)"
      ]
     },
     "execution_count": 117,
     "metadata": {},
     "output_type": "execute_result"
    }
   ],
   "source": [
    "psutil.getloadavg()"
   ]
  },
  {
   "cell_type": "markdown",
   "id": "f3c67d8b-fc93-4e5b-be33-659851ed77f1",
   "metadata": {},
   "source": [
    "<font color=\"red\">Не работает.</font>"
   ]
  },
  {
   "cell_type": "markdown",
   "id": "4aab898f-0e13-41a5-880d-1d2e8f90e2d9",
   "metadata": {},
   "source": [
    "# RAM"
   ]
  },
  {
   "cell_type": "markdown",
   "id": "56305cc4-f610-42cf-b881-5a544548a81b",
   "metadata": {},
   "source": [
    "## [psutil](https://www.geeksforgeeks.org/how-to-get-current-cpu-and-ram-usage-in-python/)"
   ]
  },
  {
   "cell_type": "markdown",
   "id": "41702406-7cff-40e8-8d59-2efe600a0271",
   "metadata": {},
   "source": [
    "The function psutil.virutal_memory()  returns a named tuple about system memory usage.  The third field in the tuple represents the percentage use of the memory(RAM). It is calculated by (total – available)/total * 100 .  Sometimes we need the actual value of the system memory used by the running process, to print the actual value, the fourth field in the tuple is used. Since the value returned is in bytes, it should be divided by 10^9 to convert into GB."
   ]
  },
  {
   "cell_type": "markdown",
   "id": "2ff9e866-3622-4d6a-b7f3-afc89e88f525",
   "metadata": {},
   "source": [
    "The total fields in the output of the function are:\n",
    "1. total: total memory excluding swap,\n",
    "2. available: available memory for processes,\n",
    "3. percent: memory usage in percent,\n",
    "4. used: the memory used,\n",
    "5. free: memory not used at and is readily available."
   ]
  },
  {
   "cell_type": "code",
   "execution_count": 120,
   "id": "d1f58179-f33b-40fe-961e-ead374c851a5",
   "metadata": {},
   "outputs": [
    {
     "name": "stdout",
     "output_type": "stream",
     "text": [
      "RAM memory % used: 82.5\n",
      "RAM Used (GB): 3.440267264\n"
     ]
    }
   ],
   "source": [
    "# importing the library\n",
    "import psutil\n",
    "\n",
    "# getting % usage of virtual_memory (3rd field)\n",
    "print('RAM memory % used:', psutil.virtual_memory()[2])\n",
    "# getting usage of virtual_memory in GB ( 4th field)\n",
    "print('RAM Used (GB):', psutil.virtual_memory()[3] / 1000000000)"
   ]
  },
  {
   "cell_type": "markdown",
   "id": "11f65855-f4c7-4313-a4a0-ae2a84cfe046",
   "metadata": {},
   "source": [
    "## [os](https://www.geeksforgeeks.org/how-to-get-current-cpu-and-ram-usage-in-python/)"
   ]
  },
  {
   "cell_type": "markdown",
   "id": "bb4d9e51-4f69-41fd-af12-7bc3d35f9407",
   "metadata": {
    "tags": []
   },
   "source": [
    "The os module is also useful for calculating the ram usage in the CPU. The os.popen() method with flags as input can provide the total, available and used memory. This method opens a pipe to or from the command. The return value can be read or written depending on whether a mode is ‘r’ or ‘w’."
   ]
  },
  {
   "cell_type": "code",
   "execution_count": 119,
   "id": "914f9397-3e45-4d40-b771-4b73251ae97d",
   "metadata": {},
   "outputs": [
    {
     "ename": "IndexError",
     "evalue": "list index out of range",
     "output_type": "error",
     "traceback": [
      "\u001b[1;31m---------------------------------------------------------------------------\u001b[0m",
      "\u001b[1;31mIndexError\u001b[0m                                Traceback (most recent call last)",
      "Cell \u001b[1;32mIn[119], line 5\u001b[0m\n\u001b[0;32m      1\u001b[0m \u001b[38;5;28;01mimport\u001b[39;00m \u001b[38;5;21;01mos\u001b[39;00m\n\u001b[0;32m      3\u001b[0m \u001b[38;5;66;03m# getting all memory using os.popen()\u001b[39;00m\n\u001b[0;32m      4\u001b[0m total_memory, used_memory, free_memory \u001b[38;5;241m=\u001b[39m \u001b[38;5;28mmap\u001b[39m(\n\u001b[1;32m----> 5\u001b[0m \t\u001b[38;5;28mint\u001b[39m, \u001b[43mos\u001b[49m\u001b[38;5;241;43m.\u001b[39;49m\u001b[43mpopen\u001b[49m\u001b[43m(\u001b[49m\u001b[38;5;124;43m'\u001b[39;49m\u001b[38;5;124;43mfree -t -m\u001b[39;49m\u001b[38;5;124;43m'\u001b[39;49m\u001b[43m)\u001b[49m\u001b[38;5;241;43m.\u001b[39;49m\u001b[43mreadlines\u001b[49m\u001b[43m(\u001b[49m\u001b[43m)\u001b[49m\u001b[43m[\u001b[49m\u001b[38;5;241;43m-\u001b[39;49m\u001b[38;5;241;43m1\u001b[39;49m\u001b[43m]\u001b[49m\u001b[38;5;241m.\u001b[39msplit()[\u001b[38;5;241m1\u001b[39m:])\n\u001b[0;32m      7\u001b[0m \u001b[38;5;66;03m# memory usage\u001b[39;00m\n\u001b[0;32m      8\u001b[0m \u001b[38;5;28mprint\u001b[39m(\u001b[38;5;124m\"\u001b[39m\u001b[38;5;124mRAM memory \u001b[39m\u001b[38;5;132;01m% u\u001b[39;00m\u001b[38;5;124msed:\u001b[39m\u001b[38;5;124m\"\u001b[39m, \u001b[38;5;28mround\u001b[39m((used_memory\u001b[38;5;241m/\u001b[39mtotal_memory) \u001b[38;5;241m*\u001b[39m \u001b[38;5;241m100\u001b[39m, \u001b[38;5;241m2\u001b[39m))\n",
      "\u001b[1;31mIndexError\u001b[0m: list index out of range"
     ]
    }
   ],
   "source": [
    "import os\n",
    "\n",
    "# getting all memory using os.popen()\n",
    "total_memory, used_memory, free_memory = map(\n",
    "\tint, os.popen('free -t -m').readlines()[-1].split()[1:])\n",
    "\n",
    "# memory usage\n",
    "print(\"RAM memory % used:\", round((used_memory/total_memory) * 100, 2))\n"
   ]
  },
  {
   "cell_type": "markdown",
   "id": "e3f4c891-2d1d-4464-9701-98808d11a8b8",
   "metadata": {},
   "source": [
    "<font color=\"red\">Не работает.</font>"
   ]
  },
  {
   "cell_type": "markdown",
   "id": "d9c9ff97-bd8e-400a-ae95-8acda1935790",
   "metadata": {},
   "source": [
    "# [Monitoring memory usage of a running Python program](https://www.geeksforgeeks.org/monitoring-memory-usage-of-a-running-python-program/)"
   ]
  },
  {
   "cell_type": "markdown",
   "id": "e09a4499-23e1-4c72-b438-0d48b6bf239f",
   "metadata": {},
   "source": [
    "Managing memory is important in any programming logic but this becomes necessary for python. As python is used in Ml and AI where vast data are used which needs to be managed. Memory leaks,i.e, the program is out of memory after running for several hours. To manage these memory leaks memory monitoring is essential. Monitoring memory is also called profiling. As a developer, it’s a necessity that we profile our program and use less memory allocation as much as possible."
   ]
  },
  {
   "cell_type": "markdown",
   "id": "6b08f2a8-1cea-434b-ad1e-36a001e44d03",
   "metadata": {},
   "source": [
    "## tracemalloc"
   ]
  },
  {
   "cell_type": "markdown",
   "id": "3c2c1c82-f1a9-4aab-a78b-85248e479892",
   "metadata": {},
   "source": [
    "Tracemalloc is a library module that traces every memory block in python. The tracing starts by using the start() during runtime. This library module can also give information about the total size, number, and average size of allocated memory blocks. Lets its function with a proper example-"
   ]
  },
  {
   "cell_type": "code",
   "execution_count": 1,
   "id": "d215b9c8-abe9-4678-8510-6599ddcb5994",
   "metadata": {},
   "outputs": [
    {
     "name": "stdout",
     "output_type": "stream",
     "text": [
      "(930, 3993615)\n"
     ]
    }
   ],
   "source": [
    "# importing the module\n",
    "import tracemalloc\n",
    "\n",
    "# code or function for which memory\n",
    "# has to be monitored\n",
    "def app():\n",
    "\tlt = []\n",
    "\tfor i in range(0, 100000):\n",
    "\t\tlt.append(i)\n",
    "\n",
    "# starting the monitoring\n",
    "tracemalloc.start()\n",
    "\n",
    "# function call\n",
    "app()\n",
    "\n",
    "# displaying the memory\n",
    "print(tracemalloc.get_traced_memory())\n",
    "\n",
    "# stopping the library\n",
    "tracemalloc.stop()"
   ]
  },
  {
   "cell_type": "markdown",
   "id": "a179938e-f041-468f-a5e6-ffc74ae7eeed",
   "metadata": {},
   "source": [
    "The output is given in form of (current, peak), i.e, current memory is the memory the code is currently using and peak memory is the maximum space the program used while executing."
   ]
  },
  {
   "cell_type": "markdown",
   "id": "fb9a1d36-d2ca-4877-8eed-ca4480d22a90",
   "metadata": {},
   "source": [
    "## psutil"
   ]
  },
  {
   "cell_type": "markdown",
   "id": "5b4e7097-0afd-4a24-9e61-da60d1b574a4",
   "metadata": {},
   "source": [
    "Let’s see this with an example. All you have to do is add the decorator function and the process_memory function in your code and this will give you the memory consumed by the code and it’s before and after."
   ]
  },
  {
   "cell_type": "code",
   "execution_count": 3,
   "id": "104bd93a-632e-44d6-a6bf-19d1cab2fa9b",
   "metadata": {},
   "outputs": [
    {
     "name": "stdout",
     "output_type": "stream",
     "text": [
      "func:consumed memory: 73,547,776\n"
     ]
    }
   ],
   "source": [
    "# importing libraries\n",
    "import os\n",
    "import psutil\n",
    "\n",
    "# inner psutil function\n",
    "def process_memory():\n",
    "\tprocess = psutil.Process(os.getpid())\n",
    "\tmem_info = process.memory_info()\n",
    "\treturn mem_info.rss\n",
    "\n",
    "# decorator function\n",
    "def profile(func):\n",
    "\tdef wrapper(*args, **kwargs):\n",
    "\n",
    "\t\tmem_before = process_memory()\n",
    "\t\tresult = func(*args, **kwargs)\n",
    "\t\tmem_after = process_memory()\n",
    "\t\tprint(\"{}:consumed memory: {:,}\".format(\n",
    "\t\t\tfunc.__name__,\n",
    "\t\t\tmem_before, mem_after, mem_after - mem_before))\n",
    "\n",
    "\t\treturn result\n",
    "\treturn wrapper\n",
    "\n",
    "# instantiation of decorator function\n",
    "@profile\n",
    "\n",
    "# main code for which\n",
    "# memory has to be monitored\n",
    "def func():\n",
    "\tx = [1] * (10 ** 2)\n",
    "\ty = [2] * (4 * 10 ** 2)\n",
    "\tdel x\n",
    "\treturn y\n",
    "\n",
    "func();"
   ]
  },
  {
   "cell_type": "markdown",
   "id": "4c071cfd-1250-4a99-b7a4-e5ae4cf410a4",
   "metadata": {},
   "source": [
    "## memory profiler"
   ]
  },
  {
   "cell_type": "markdown",
   "id": "0e8e29d5-09f4-4322-8683-7b35ca1b776d",
   "metadata": {},
   "source": [
    "Memory profiler from PyPI is a python library module used for monitoring process memory. It uses psutil code to create a decorator and then uses it to get the memory distribution. With this pypi module by importing one can save lines and directly call the decorator."
   ]
  },
  {
   "cell_type": "code",
   "execution_count": 6,
   "id": "129c0e10-9918-4e48-ac15-1822e490b1dc",
   "metadata": {},
   "outputs": [
    {
     "name": "stdout",
     "output_type": "stream",
     "text": [
      "ERROR: Could not find file C:\\Users\\Andrey\\AppData\\Local\\Temp\\ipykernel_9568\\3263203817.py\n"
     ]
    }
   ],
   "source": [
    "# importing the library\n",
    "from memory_profiler import profile\n",
    " \n",
    "# instantiating the decorator\n",
    "@profile\n",
    "# code for which memory has to\n",
    "# be monitored\n",
    "def my_func():\n",
    "    x = [x for x in range(0, 1000)]\n",
    "    y = [y*100 for y in range(0, 1500)]\n",
    "    del x\n",
    "    return y\n",
    " \n",
    "if __name__ == '__main__':\n",
    "    my_func()"
   ]
  },
  {
   "cell_type": "markdown",
   "id": "20fa3d67-2a1d-4077-ba1c-a7ccb78ad19e",
   "metadata": {},
   "source": [
    "The output displays the memory consumed by each line in the code. Implementation of finding the memory consumption is very easy using a memory profiler as we directly call the decorator instead of writing a whole new code. "
   ]
  },
  {
   "cell_type": "code",
   "execution_count": null,
   "id": "94857198-7f0a-46e7-b458-517bc323147f",
   "metadata": {},
   "outputs": [],
   "source": []
  }
 ],
 "metadata": {
  "kernelspec": {
   "display_name": "Python 3 (ipykernel)",
   "language": "python",
   "name": "python3"
  },
  "language_info": {
   "codemirror_mode": {
    "name": "ipython",
    "version": 3
   },
   "file_extension": ".py",
   "mimetype": "text/x-python",
   "name": "python",
   "nbconvert_exporter": "python",
   "pygments_lexer": "ipython3",
   "version": "3.11.1"
  }
 },
 "nbformat": 4,
 "nbformat_minor": 5
}
