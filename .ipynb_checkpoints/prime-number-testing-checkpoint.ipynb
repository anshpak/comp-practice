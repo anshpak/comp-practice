{
 "cells": [
  {
   "cell_type": "code",
   "execution_count": 1,
   "id": "d2b08f60-6cc2-4b92-bb8f-e5ac5389b1d0",
   "metadata": {},
   "outputs": [
    {
     "name": "stdout",
     "output_type": "stream",
     "text": [
      "hello, Andrey\n"
     ]
    }
   ],
   "source": [
    "print(\"hello, Andrey\")"
   ]
  },
  {
   "cell_type": "code",
   "execution_count": null,
   "id": "5ebf36c5-3a7c-42b9-ab0f-96a92de22597",
   "metadata": {},
   "outputs": [],
   "source": []
  }
 ],
 "metadata": {
  "kernelspec": {
   "display_name": "Python 3 (ipykernel)",
   "language": "python",
   "name": "python3"
  },
  "language_info": {
   "codemirror_mode": {
    "name": "ipython",
    "version": 3
   },
   "file_extension": ".py",
   "mimetype": "text/x-python",
   "name": "python",
   "nbconvert_exporter": "python",
   "pygments_lexer": "ipython3",
   "version": "3.9.12"
  }
 },
 "nbformat": 4,
 "nbformat_minor": 5
}
