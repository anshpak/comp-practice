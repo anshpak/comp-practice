{
 "cells": [
  {
   "cell_type": "code",
   "execution_count": 1,
   "id": "1265f063-c852-4919-b0a1-f7efa589079d",
   "metadata": {},
   "outputs": [],
   "source": [
    "def trial_division(n):\n",
    "    d = 2\n",
    "    while d <= n**0.5:\n",
    "        if n % d == 0:\n",
    "            return False\n",
    "        d += 1\n",
    "    return True"
   ]
  },
  {
   "cell_type": "code",
   "execution_count": 7,
   "id": "fdb74d6b-3890-449c-a064-c6eabc05bdf5",
   "metadata": {},
   "outputs": [],
   "source": [
    "def v(q, t):\n",
    "    \"\"\"\n",
    "    показатель степени, с которым число q входит в разложение t\n",
    "    \"\"\"\n",
    "    ans = 0\n",
    "    while(t % q == 0):\n",
    "        ans +=1\n",
    "        t//= q\n",
    "    return ans"
   ]
  },
  {
   "cell_type": "code",
   "execution_count": 6,
   "id": "23e1f7fa-326f-429f-8bfc-818dfc1223f0",
   "metadata": {},
   "outputs": [],
   "source": [
    "def e(t):\n",
    "    s = 1\n",
    "    q_list = []\n",
    "    for q in range(2, t+2):\n",
    "        if t%(q-1) == 0 and trial_division(q):\n",
    "            s *= q ** (1+v(q,t))\n",
    "            q_list.append(q)\n",
    "    return 2*s, q_list\n",
    "\n"
   ]
  },
  {
   "cell_type": "code",
   "execution_count": 5,
   "id": "fed8ad19-d517-44de-bb42-60942779cfee",
   "metadata": {},
   "outputs": [
    {
     "data": {
      "text/plain": [
       "24"
      ]
     },
     "execution_count": 5,
     "metadata": {},
     "output_type": "execute_result"
    }
   ],
   "source": [
    "e(2)"
   ]
  },
  {
   "cell_type": "code",
   "execution_count": null,
   "id": "2f2dfd63-801c-4b46-a8c4-c87615293c61",
   "metadata": {},
   "outputs": [],
   "source": [
    "def apr(n):\n",
    "    "
   ]
  }
 ],
 "metadata": {
  "kernelspec": {
   "display_name": "Python 3 (ipykernel)",
   "language": "python",
   "name": "python3"
  },
  "language_info": {
   "codemirror_mode": {
    "name": "ipython",
    "version": 3
   },
   "file_extension": ".py",
   "mimetype": "text/x-python",
   "name": "python",
   "nbconvert_exporter": "python",
   "pygments_lexer": "ipython3",
   "version": "3.9.12"
  }
 },
 "nbformat": 4,
 "nbformat_minor": 5
}
