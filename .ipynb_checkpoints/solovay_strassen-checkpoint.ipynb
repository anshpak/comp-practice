{
 "cells": [
  {
   "cell_type": "code",
   "execution_count": 108,
   "id": "50c1f6dd-caa2-436a-ad5f-98404f1fc5bc",
   "metadata": {},
   "outputs": [],
   "source": [
    "import random\n",
    "import math\n",
    "import sympy"
   ]
  },
  {
   "cell_type": "code",
   "execution_count": 109,
   "id": "7f499fa5-e94a-4258-81ed-e0af5bbf3ff1",
   "metadata": {
    "slideshow": {
     "slide_type": "subslide"
    }
   },
   "outputs": [],
   "source": [
    "def fast_power(a, d, m):\n",
    "    b = 1\n",
    "    while d>0:\n",
    "        if d & 1:\n",
    "            b = b*a % m\n",
    "        a = a*a % m\n",
    "        d = d >> 1\n",
    "    return b"
   ]
  },
  {
   "cell_type": "code",
   "execution_count": 110,
   "id": "a15f3880-1b61-4741-8138-7102c074bfb4",
   "metadata": {},
   "outputs": [],
   "source": [
    "def solovay_strassen(n, k):\n",
    "    for i in range(1,k+1):\n",
    "        a = random.randint(2,n-1)\n",
    "        if math.gcd(a,n) > 1:\n",
    "            return False\n",
    "        j = fast_power(a,(n-1)//2,n)\n",
    "        jacobi_symb = sympy.jacobi_symbol(a, n) % n\n",
    "        if jacobi_symb != j:\n",
    "            print(jacobi_symb)\n",
    "            return False\n",
    "    return True"
   ]
  }
 ],
 "metadata": {
  "kernelspec": {
   "display_name": "Python 3 (ipykernel)",
   "language": "python",
   "name": "python3"
  },
  "language_info": {
   "codemirror_mode": {
    "name": "ipython",
    "version": 3
   },
   "file_extension": ".py",
   "mimetype": "text/x-python",
   "name": "python",
   "nbconvert_exporter": "python",
   "pygments_lexer": "ipython3",
   "version": "3.9.12"
  }
 },
 "nbformat": 4,
 "nbformat_minor": 5
}
