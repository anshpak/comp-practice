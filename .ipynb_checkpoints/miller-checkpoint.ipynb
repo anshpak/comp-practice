{
 "cells": [
  {
   "cell_type": "code",
   "execution_count": 42,
   "id": "ec8e87bf-cc9b-4751-86e6-69ea2395460b",
   "metadata": {},
   "outputs": [],
   "source": [
    "import random"
   ]
  },
  {
   "cell_type": "code",
   "execution_count": 47,
   "id": "b35b28cf-968b-4893-aa86-b719bfdf000d",
   "metadata": {},
   "outputs": [],
   "source": [
    "def miller(n, k=10):\n",
    "    if n == 2 or n == 3:\n",
    "        return True\n",
    "    if n <= 1 or n % 2 == 0:\n",
    "        return False\n",
    "    \n",
    "    s = 0\n",
    "    q = n - 1\n",
    "    while q % 2 == 0:\n",
    "        s += 1\n",
    "        q //= 2\n",
    "        \n",
    "    for _ in range(k):\n",
    "        a = random.randrange(2, n - 1)\n",
    "        x = pow(a, q, n)\n",
    "        if x == 1 or x == n - 1:\n",
    "            continue\n",
    "       \n",
    "        for _ in range(s - 1):\n",
    "            x = pow(x, 2, n)\n",
    "            if x == n - 1:\n",
    "                break\n",
    "        else:\n",
    "            return False\n",
    "    return True"
   ]
  },
  {
   "cell_type": "code",
   "execution_count": null,
   "id": "aca0130b-e3f6-4fae-841c-bc640ee50c01",
   "metadata": {},
   "outputs": [],
   "source": []
  }
 ],
 "metadata": {
  "kernelspec": {
   "display_name": "Python 3 (ipykernel)",
   "language": "python",
   "name": "python3"
  },
  "language_info": {
   "codemirror_mode": {
    "name": "ipython",
    "version": 3
   },
   "file_extension": ".py",
   "mimetype": "text/x-python",
   "name": "python",
   "nbconvert_exporter": "python",
   "pygments_lexer": "ipython3",
   "version": "3.9.12"
  }
 },
 "nbformat": 4,
 "nbformat_minor": 5
}
