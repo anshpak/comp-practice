{
 "cells": [
  {
   "cell_type": "code",
   "execution_count": 1,
   "id": "c6e16c2e-da71-41e3-92bb-34a33a837abb",
   "metadata": {},
   "outputs": [],
   "source": [
    "def is_kallen_number(p):\n",
    "    e_list = [1, 141, 4713, 5795, 6611, 18496, 32292, 32469, 59656, 90825, 262419, 361275, 481899, 1354828, 6328548, 6679881 ]\n",
    "    for n in e_list:\n",
    "        if n * 2**n + 1 == p:\n",
    "            return True\n",
    "    return False"
   ]
  },
  {
   "cell_type": "code",
   "execution_count": null,
   "id": "6a1e6499-fb2a-4d9c-9371-759ad2e82017",
   "metadata": {},
   "outputs": [],
   "source": []
  }
 ],
 "metadata": {
  "kernelspec": {
   "display_name": "Python 3 (ipykernel)",
   "language": "python",
   "name": "python3"
  },
  "language_info": {
   "codemirror_mode": {
    "name": "ipython",
    "version": 3
   },
   "file_extension": ".py",
   "mimetype": "text/x-python",
   "name": "python",
   "nbconvert_exporter": "python",
   "pygments_lexer": "ipython3",
   "version": "3.9.12"
  }
 },
 "nbformat": 4,
 "nbformat_minor": 5
}
