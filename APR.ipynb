{
 "cells": [
  {
   "cell_type": "code",
   "execution_count": 57,
   "id": "35a5b3f5-e3af-4d4d-aca4-9c8c109d93d0",
   "metadata": {},
   "outputs": [],
   "source": [
    "import math"
   ]
  },
  {
   "cell_type": "code",
   "execution_count": 58,
   "id": "1265f063-c852-4919-b0a1-f7efa589079d",
   "metadata": {},
   "outputs": [],
   "source": [
    "def trial_division(n):\n",
    "    d = 2\n",
    "    while d <= n**0.5:\n",
    "        if n % d == 0:\n",
    "            return False\n",
    "        d += 1\n",
    "    return True"
   ]
  },
  {
   "cell_type": "code",
   "execution_count": 59,
   "id": "fdb74d6b-3890-449c-a064-c6eabc05bdf5",
   "metadata": {},
   "outputs": [],
   "source": [
    "def v(q, t):\n",
    "    \"\"\"\n",
    "    показатель степени, с которым число q входит в разложение t\n",
    "    \"\"\"\n",
    "    ans = 0\n",
    "    while(t % q == 0):\n",
    "        ans +=1\n",
    "        t//= q\n",
    "    return ans"
   ]
  },
  {
   "cell_type": "code",
   "execution_count": 60,
   "id": "23e1f7fa-326f-429f-8bfc-818dfc1223f0",
   "metadata": {},
   "outputs": [],
   "source": [
    "def e(t):\n",
    "    s = 1\n",
    "    q_list = []\n",
    "    for q in range(2, t+2):\n",
    "        if t%(q-1) == 0 and trial_division(q):\n",
    "            s *= q ** (1+v(q,t))\n",
    "            q_list.append(q)\n",
    "    return 2*s, q_list"
   ]
  },
  {
   "cell_type": "code",
   "execution_count": 62,
   "id": "1508a91b-3073-40fe-adfc-b578fd5df429",
   "metadata": {},
   "outputs": [
    {
     "name": "stdout",
     "output_type": "stream",
     "text": [
      "(15321986788854443284662612735663611380010431225771200, [2, 3, 5, 7, 11, 13, 17, 19, 29, 31, 37, 41, 43, 61, 71, 73, 113, 127, 181, 211, 241, 281, 337, 421, 631, 1009, 2521])\n"
     ]
    }
   ],
   "source": [
    "print(e(5040))"
   ]
  },
  {
   "cell_type": "code",
   "execution_count": 87,
   "id": "2f2dfd63-801c-4b46-a8c4-c87615293c61",
   "metadata": {},
   "outputs": [],
   "source": [
    "def apr_step1(n):\n",
    "    if n < 2:\n",
    "        return False\n",
    "    t_list = [2, 8, 24, 72, 216, 864, 1728, 3456, 5040, 6912, 13824]\n",
    "    for t in t_list:\n",
    "        et, q_list = e(t)\n",
    "        if et**2 > n:\n",
    "            break \n",
    "    else:\n",
    "        print(\"t not found\")\n",
    "        return False\n",
    "    \n",
    "    if math.gcd(n, t*et) != 1:\n",
    "        return False\n",
    "    print(t)\n",
    "    print(\"-----Step2-----\")\n",
    "    fact_t = prime_factors(t)\n",
    "    l = {}\n",
    "    for p, k in fact_t:\n",
    "        if p>=3 and pow(N, p-1, p*p)!=1:\n",
    "            l[p] = 1\n",
    "        else:\n",
    "            l[p] = 0\n",
    "    print(\"l_p=\", l)"
   ]
  },
  {
   "cell_type": "code",
   "execution_count": 88,
   "id": "0d277b36-fe7b-4e69-8adb-7ea4a9071d71",
   "metadata": {},
   "outputs": [
    {
     "name": "stdout",
     "output_type": "stream",
     "text": [
      "2\n",
      "-----Step2-----\n",
      "l_p= {2: 0}\n"
     ]
    }
   ],
   "source": [
    "apr_step1(13)"
   ]
  },
  {
   "cell_type": "code",
   "execution_count": 64,
   "id": "623a407a-6974-4c42-9bb6-231d7e438188",
   "metadata": {},
   "outputs": [],
   "source": [
    "def prime_factors(n):\n",
    "    i = 2\n",
    "    result = []\n",
    "    while i * i <= n:\n",
    "        count = 0\n",
    "        while n % i == 0:\n",
    "            count += 1\n",
    "            result.append((i, count))\n",
    "            n = n // i\n",
    "        i = i + 1\n",
    "    if n > 1:\n",
    "        result.append((n,1))\n",
    "    return result"
   ]
  },
  {
   "cell_type": "code",
   "execution_count": 65,
   "id": "69b23b12-90ec-4845-b111-ad15e45ce94b",
   "metadata": {},
   "outputs": [
    {
     "data": {
      "text/plain": [
       "[(2, 1), (2, 2), (2, 3), (2, 4), (3, 1), (3, 2), (5, 1), (7, 1)]"
      ]
     },
     "execution_count": 65,
     "metadata": {},
     "output_type": "execute_result"
    }
   ],
   "source": [
    "prime_factors(5040)"
   ]
  }
 ],
 "metadata": {
  "kernelspec": {
   "display_name": "Python 3 (ipykernel)",
   "language": "python",
   "name": "python3"
  },
  "language_info": {
   "codemirror_mode": {
    "name": "ipython",
    "version": 3
   },
   "file_extension": ".py",
   "mimetype": "text/x-python",
   "name": "python",
   "nbconvert_exporter": "python",
   "pygments_lexer": "ipython3",
   "version": "3.9.12"
  }
 },
 "nbformat": 4,
 "nbformat_minor": 5
}
