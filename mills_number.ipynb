{
 "cells": [
  {
   "cell_type": "code",
   "execution_count": 67,
   "id": "976a7e71-8e88-4072-8fa9-7d32ed6158f4",
   "metadata": {},
   "outputs": [],
   "source": [
    "def is_mills_number(n):\n",
    "    A = 1.3063778838630806904686144926\n",
    "    for i in range(1,8):\n",
    "        print(round(A**(3**i)))\n",
    "        if round(A**(3**i)) == n:\n",
    "            return True\n",
    "    return False"
   ]
  }
 ],
 "metadata": {
  "kernelspec": {
   "display_name": "Python 3 (ipykernel)",
   "language": "python",
   "name": "python3"
  },
  "language_info": {
   "codemirror_mode": {
    "name": "ipython",
    "version": 3
   },
   "file_extension": ".py",
   "mimetype": "text/x-python",
   "name": "python",
   "nbconvert_exporter": "python",
   "pygments_lexer": "ipython3",
   "version": "3.9.12"
  }
 },
 "nbformat": 4,
 "nbformat_minor": 5
}
