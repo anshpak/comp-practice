{
 "cells": [
  {
   "cell_type": "code",
   "execution_count": 56,
   "id": "2155ee63-7d75-443b-8bd8-6f23c271407d",
   "metadata": {},
   "outputs": [],
   "source": [
    "def factorize(n):\n",
    "    if n == 0:\n",
    "        return (0, 0)\n",
    "    s = 0\n",
    "    while n % 2 == 0:\n",
    "        n //= 2\n",
    "        s += 1\n",
    "    return (n, s)\n",
    "    \n",
    "def prot(p):\n",
    "    l = p - 1\n",
    "    k, n = factorize(l)\n",
    "    print(n,k)\n",
    "    if k % 2 != 0 and k < 2**n:\n",
    "        return True\n",
    "    else:\n",
    "        return False"
   ]
  },
  {
   "cell_type": "code",
   "execution_count": null,
   "id": "a5c141ee-1797-4abf-836c-9375211dda65",
   "metadata": {},
   "outputs": [],
   "source": []
  }
 ],
 "metadata": {
  "kernelspec": {
   "display_name": "Python 3 (ipykernel)",
   "language": "python",
   "name": "python3"
  },
  "language_info": {
   "codemirror_mode": {
    "name": "ipython",
    "version": 3
   },
   "file_extension": ".py",
   "mimetype": "text/x-python",
   "name": "python",
   "nbconvert_exporter": "python",
   "pygments_lexer": "ipython3",
   "version": "3.9.12"
  }
 },
 "nbformat": 4,
 "nbformat_minor": 5
}
